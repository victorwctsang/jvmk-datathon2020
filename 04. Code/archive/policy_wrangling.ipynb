{
 "metadata": {
  "language_info": {
   "codemirror_mode": {
    "name": "ipython",
    "version": 3
   },
   "file_extension": ".py",
   "mimetype": "text/x-python",
   "name": "python",
   "nbconvert_exporter": "python",
   "pygments_lexer": "ipython3",
   "version": "3.6.9-final"
  },
  "orig_nbformat": 2,
  "kernelspec": {
   "name": "python_defaultSpec_1601734017213",
   "display_name": "Python 3.6.9 64-bit ('datathon-venv': venv)"
  }
 },
 "nbformat": 4,
 "nbformat_minor": 2,
 "cells": [
  {
   "cell_type": "code",
   "execution_count": 3,
   "metadata": {},
   "outputs": [],
   "source": [
    "import pandas as pd\n",
    "import numpy as np\n",
    "import matplotlib.pyplot as plt\n",
    "import seaborn as sns\n",
    "from pandas_profiling import ProfileReport\n",
    "\n",
    "CLEANSED_DATA = \"../03. Cleansed Data/\"\n",
    "SOURCE_DATA = \"../02. Source Data/\"\n",
    "POLICY_DATA = SOURCE_DATA + \"/00 Core/Oxford Covid-19 Government Response Tracker/OxCGRT_latest.csv\"\n",
    "EFFECTIVENESS_DATA = CLEANSED_DATA + \"effectiveness_ranking.csv\""
   ]
  },
  {
   "cell_type": "code",
   "execution_count": 5,
   "metadata": {},
   "outputs": [
    {
     "output_type": "execute_result",
     "data": {
      "text/plain": "  CountryName CountryCode RegionName RegionCode      Date  C1_School closing  \\\n0       aruba         ABW        NaN        NaN  20200101                0.0   \n1       aruba         ABW        NaN        NaN  20200102                0.0   \n2       aruba         ABW        NaN        NaN  20200103                0.0   \n3       aruba         ABW        NaN        NaN  20200104                0.0   \n4       aruba         ABW        NaN        NaN  20200105                0.0   \n\n   C1_Flag  C2_Workplace closing  C2_Flag  C3_Cancel public events  ...  \\\n0      NaN                   0.0      NaN                      0.0  ...   \n1      NaN                   0.0      NaN                      0.0  ...   \n2      NaN                   0.0      NaN                      0.0  ...   \n3      NaN                   0.0      NaN                      0.0  ...   \n4      NaN                   0.0      NaN                      0.0  ...   \n\n   StringencyIndex  StringencyIndexForDisplay  StringencyLegacyIndex  \\\n0              0.0                        0.0                    0.0   \n1              0.0                        0.0                    0.0   \n2              0.0                        0.0                    0.0   \n3              0.0                        0.0                    0.0   \n4              0.0                        0.0                    0.0   \n\n   StringencyLegacyIndexForDisplay  GovernmentResponseIndex  \\\n0                              0.0                      0.0   \n1                              0.0                      0.0   \n2                              0.0                      0.0   \n3                              0.0                      0.0   \n4                              0.0                      0.0   \n\n   GovernmentResponseIndexForDisplay  ContainmentHealthIndex  \\\n0                                0.0                     0.0   \n1                                0.0                     0.0   \n2                                0.0                     0.0   \n3                                0.0                     0.0   \n4                                0.0                     0.0   \n\n   ContainmentHealthIndexForDisplay  EconomicSupportIndex  \\\n0                               0.0                   0.0   \n1                               0.0                   0.0   \n2                               0.0                   0.0   \n3                               0.0                   0.0   \n4                               0.0                   0.0   \n\n   EconomicSupportIndexForDisplay  \n0                             0.0  \n1                             0.0  \n2                             0.0  \n3                             0.0  \n4                             0.0  \n\n[5 rows x 44 columns]",
      "text/html": "<div>\n<style scoped>\n    .dataframe tbody tr th:only-of-type {\n        vertical-align: middle;\n    }\n\n    .dataframe tbody tr th {\n        vertical-align: top;\n    }\n\n    .dataframe thead th {\n        text-align: right;\n    }\n</style>\n<table border=\"1\" class=\"dataframe\">\n  <thead>\n    <tr style=\"text-align: right;\">\n      <th></th>\n      <th>CountryName</th>\n      <th>CountryCode</th>\n      <th>RegionName</th>\n      <th>RegionCode</th>\n      <th>Date</th>\n      <th>C1_School closing</th>\n      <th>C1_Flag</th>\n      <th>C2_Workplace closing</th>\n      <th>C2_Flag</th>\n      <th>C3_Cancel public events</th>\n      <th>...</th>\n      <th>StringencyIndex</th>\n      <th>StringencyIndexForDisplay</th>\n      <th>StringencyLegacyIndex</th>\n      <th>StringencyLegacyIndexForDisplay</th>\n      <th>GovernmentResponseIndex</th>\n      <th>GovernmentResponseIndexForDisplay</th>\n      <th>ContainmentHealthIndex</th>\n      <th>ContainmentHealthIndexForDisplay</th>\n      <th>EconomicSupportIndex</th>\n      <th>EconomicSupportIndexForDisplay</th>\n    </tr>\n  </thead>\n  <tbody>\n    <tr>\n      <th>0</th>\n      <td>aruba</td>\n      <td>ABW</td>\n      <td>NaN</td>\n      <td>NaN</td>\n      <td>20200101</td>\n      <td>0.0</td>\n      <td>NaN</td>\n      <td>0.0</td>\n      <td>NaN</td>\n      <td>0.0</td>\n      <td>...</td>\n      <td>0.0</td>\n      <td>0.0</td>\n      <td>0.0</td>\n      <td>0.0</td>\n      <td>0.0</td>\n      <td>0.0</td>\n      <td>0.0</td>\n      <td>0.0</td>\n      <td>0.0</td>\n      <td>0.0</td>\n    </tr>\n    <tr>\n      <th>1</th>\n      <td>aruba</td>\n      <td>ABW</td>\n      <td>NaN</td>\n      <td>NaN</td>\n      <td>20200102</td>\n      <td>0.0</td>\n      <td>NaN</td>\n      <td>0.0</td>\n      <td>NaN</td>\n      <td>0.0</td>\n      <td>...</td>\n      <td>0.0</td>\n      <td>0.0</td>\n      <td>0.0</td>\n      <td>0.0</td>\n      <td>0.0</td>\n      <td>0.0</td>\n      <td>0.0</td>\n      <td>0.0</td>\n      <td>0.0</td>\n      <td>0.0</td>\n    </tr>\n    <tr>\n      <th>2</th>\n      <td>aruba</td>\n      <td>ABW</td>\n      <td>NaN</td>\n      <td>NaN</td>\n      <td>20200103</td>\n      <td>0.0</td>\n      <td>NaN</td>\n      <td>0.0</td>\n      <td>NaN</td>\n      <td>0.0</td>\n      <td>...</td>\n      <td>0.0</td>\n      <td>0.0</td>\n      <td>0.0</td>\n      <td>0.0</td>\n      <td>0.0</td>\n      <td>0.0</td>\n      <td>0.0</td>\n      <td>0.0</td>\n      <td>0.0</td>\n      <td>0.0</td>\n    </tr>\n    <tr>\n      <th>3</th>\n      <td>aruba</td>\n      <td>ABW</td>\n      <td>NaN</td>\n      <td>NaN</td>\n      <td>20200104</td>\n      <td>0.0</td>\n      <td>NaN</td>\n      <td>0.0</td>\n      <td>NaN</td>\n      <td>0.0</td>\n      <td>...</td>\n      <td>0.0</td>\n      <td>0.0</td>\n      <td>0.0</td>\n      <td>0.0</td>\n      <td>0.0</td>\n      <td>0.0</td>\n      <td>0.0</td>\n      <td>0.0</td>\n      <td>0.0</td>\n      <td>0.0</td>\n    </tr>\n    <tr>\n      <th>4</th>\n      <td>aruba</td>\n      <td>ABW</td>\n      <td>NaN</td>\n      <td>NaN</td>\n      <td>20200105</td>\n      <td>0.0</td>\n      <td>NaN</td>\n      <td>0.0</td>\n      <td>NaN</td>\n      <td>0.0</td>\n      <td>...</td>\n      <td>0.0</td>\n      <td>0.0</td>\n      <td>0.0</td>\n      <td>0.0</td>\n      <td>0.0</td>\n      <td>0.0</td>\n      <td>0.0</td>\n      <td>0.0</td>\n      <td>0.0</td>\n      <td>0.0</td>\n    </tr>\n  </tbody>\n</table>\n<p>5 rows × 44 columns</p>\n</div>"
     },
     "metadata": {},
     "execution_count": 5
    }
   ],
   "source": [
    "oxcgrt = pd.read_csv(POLICY_DATA)\n",
    "oxcgrt['CountryName'] = oxcgrt['CountryName'].str.lower()\n",
    "oxcgrt.head()"
   ]
  },
  {
   "cell_type": "code",
   "execution_count": 23,
   "metadata": {},
   "outputs": [
    {
     "output_type": "execute_result",
     "data": {
      "text/plain": "       country ctr_y   uai     ltowvs     PCA-1  cluster  confirmed/pop  \\\n0       taiwan   TWN  69.0  92.947103 -1.929032        3       0.000021   \n1  new zealand   NZL  49.0  32.745592 -3.872641        1       0.000379   \n2     thailand   THA  64.0  31.738035  0.971190        1       0.000050   \n3      comoros   COM  68.0  23.000000  2.879881        1       0.000540   \n4     malaysia   MYS  36.0  40.806045  0.235920        2       0.000325   \n\n   rank_confirmed  deaths/confirmed  rank_deaths  recovered/confirmed  \\\n0               1          0.013752           15             0.943026   \n1               9          0.013684           14             0.950739   \n2               2          0.016780           25             0.953641   \n3              11          0.014894           19             0.963830   \n4               8          0.012661           13             0.914041   \n\n   rank_recover  effectiveness  \n0            11       9.000000  \n1             6       9.666667  \n2             5      10.666667  \n3             3      11.000000  \n4            14      11.666667  ",
      "text/html": "<div>\n<style scoped>\n    .dataframe tbody tr th:only-of-type {\n        vertical-align: middle;\n    }\n\n    .dataframe tbody tr th {\n        vertical-align: top;\n    }\n\n    .dataframe thead th {\n        text-align: right;\n    }\n</style>\n<table border=\"1\" class=\"dataframe\">\n  <thead>\n    <tr style=\"text-align: right;\">\n      <th></th>\n      <th>country</th>\n      <th>ctr_y</th>\n      <th>uai</th>\n      <th>ltowvs</th>\n      <th>PCA-1</th>\n      <th>cluster</th>\n      <th>confirmed/pop</th>\n      <th>rank_confirmed</th>\n      <th>deaths/confirmed</th>\n      <th>rank_deaths</th>\n      <th>recovered/confirmed</th>\n      <th>rank_recover</th>\n      <th>effectiveness</th>\n    </tr>\n  </thead>\n  <tbody>\n    <tr>\n      <th>0</th>\n      <td>taiwan</td>\n      <td>TWN</td>\n      <td>69.0</td>\n      <td>92.947103</td>\n      <td>-1.929032</td>\n      <td>3</td>\n      <td>0.000021</td>\n      <td>1</td>\n      <td>0.013752</td>\n      <td>15</td>\n      <td>0.943026</td>\n      <td>11</td>\n      <td>9.000000</td>\n    </tr>\n    <tr>\n      <th>1</th>\n      <td>new zealand</td>\n      <td>NZL</td>\n      <td>49.0</td>\n      <td>32.745592</td>\n      <td>-3.872641</td>\n      <td>1</td>\n      <td>0.000379</td>\n      <td>9</td>\n      <td>0.013684</td>\n      <td>14</td>\n      <td>0.950739</td>\n      <td>6</td>\n      <td>9.666667</td>\n    </tr>\n    <tr>\n      <th>2</th>\n      <td>thailand</td>\n      <td>THA</td>\n      <td>64.0</td>\n      <td>31.738035</td>\n      <td>0.971190</td>\n      <td>1</td>\n      <td>0.000050</td>\n      <td>2</td>\n      <td>0.016780</td>\n      <td>25</td>\n      <td>0.953641</td>\n      <td>5</td>\n      <td>10.666667</td>\n    </tr>\n    <tr>\n      <th>3</th>\n      <td>comoros</td>\n      <td>COM</td>\n      <td>68.0</td>\n      <td>23.000000</td>\n      <td>2.879881</td>\n      <td>1</td>\n      <td>0.000540</td>\n      <td>11</td>\n      <td>0.014894</td>\n      <td>19</td>\n      <td>0.963830</td>\n      <td>3</td>\n      <td>11.000000</td>\n    </tr>\n    <tr>\n      <th>4</th>\n      <td>malaysia</td>\n      <td>MYS</td>\n      <td>36.0</td>\n      <td>40.806045</td>\n      <td>0.235920</td>\n      <td>2</td>\n      <td>0.000325</td>\n      <td>8</td>\n      <td>0.012661</td>\n      <td>13</td>\n      <td>0.914041</td>\n      <td>14</td>\n      <td>11.666667</td>\n    </tr>\n  </tbody>\n</table>\n</div>"
     },
     "metadata": {},
     "execution_count": 23
    }
   ],
   "source": [
    "effectiveness = pd.read_csv(EFFECTIVENESS_DATA, index_col=0)\n",
    "effectiveness = effectiveness.rename(columns={\"index\": \"country\"})\n",
    "effectiveness = effectiveness.replace({\"syrian arab republic\": \"syria\"})\n",
    "effectiveness.head()"
   ]
  },
  {
   "cell_type": "code",
   "execution_count": 24,
   "metadata": {},
   "outputs": [
    {
     "output_type": "execute_result",
     "data": {
      "text/plain": "  country ctr_y   uai     ltowvs     PCA-1  cluster  confirmed/pop  \\\n0  taiwan   TWN  69.0  92.947103 -1.929032        3       0.000021   \n1  taiwan   TWN  69.0  92.947103 -1.929032        3       0.000021   \n2  taiwan   TWN  69.0  92.947103 -1.929032        3       0.000021   \n3  taiwan   TWN  69.0  92.947103 -1.929032        3       0.000021   \n4  taiwan   TWN  69.0  92.947103 -1.929032        3       0.000021   \n\n   rank_confirmed  deaths/confirmed  rank_deaths  ...  StringencyIndex  \\\n0               1          0.013752           15  ...             2.78   \n1               1          0.013752           15  ...             8.33   \n2               1          0.013752           15  ...             8.33   \n3               1          0.013752           15  ...             8.33   \n4               1          0.013752           15  ...             8.33   \n\n   StringencyIndexForDisplay  StringencyLegacyIndex  \\\n0                       2.78                   3.57   \n1                       8.33                  13.10   \n2                       8.33                  13.10   \n3                       8.33                  13.10   \n4                       8.33                  13.10   \n\n  StringencyLegacyIndexForDisplay GovernmentResponseIndex  \\\n0                            3.57                    1.92   \n1                           13.10                    5.77   \n2                           13.10                    5.77   \n3                           13.10                    5.77   \n4                           13.10                    5.77   \n\n  GovernmentResponseIndexForDisplay ContainmentHealthIndex  \\\n0                              1.92                   2.27   \n1                              5.77                   6.82   \n2                              5.77                   6.82   \n3                              5.77                   6.82   \n4                              5.77                   6.82   \n\n   ContainmentHealthIndexForDisplay  EconomicSupportIndex  \\\n0                              2.27                   0.0   \n1                              6.82                   0.0   \n2                              6.82                   0.0   \n3                              6.82                   0.0   \n4                              6.82                   0.0   \n\n   EconomicSupportIndexForDisplay  \n0                             0.0  \n1                             0.0  \n2                             0.0  \n3                             0.0  \n4                             0.0  \n\n[5 rows x 57 columns]",
      "text/html": "<div>\n<style scoped>\n    .dataframe tbody tr th:only-of-type {\n        vertical-align: middle;\n    }\n\n    .dataframe tbody tr th {\n        vertical-align: top;\n    }\n\n    .dataframe thead th {\n        text-align: right;\n    }\n</style>\n<table border=\"1\" class=\"dataframe\">\n  <thead>\n    <tr style=\"text-align: right;\">\n      <th></th>\n      <th>country</th>\n      <th>ctr_y</th>\n      <th>uai</th>\n      <th>ltowvs</th>\n      <th>PCA-1</th>\n      <th>cluster</th>\n      <th>confirmed/pop</th>\n      <th>rank_confirmed</th>\n      <th>deaths/confirmed</th>\n      <th>rank_deaths</th>\n      <th>...</th>\n      <th>StringencyIndex</th>\n      <th>StringencyIndexForDisplay</th>\n      <th>StringencyLegacyIndex</th>\n      <th>StringencyLegacyIndexForDisplay</th>\n      <th>GovernmentResponseIndex</th>\n      <th>GovernmentResponseIndexForDisplay</th>\n      <th>ContainmentHealthIndex</th>\n      <th>ContainmentHealthIndexForDisplay</th>\n      <th>EconomicSupportIndex</th>\n      <th>EconomicSupportIndexForDisplay</th>\n    </tr>\n  </thead>\n  <tbody>\n    <tr>\n      <th>0</th>\n      <td>taiwan</td>\n      <td>TWN</td>\n      <td>69.0</td>\n      <td>92.947103</td>\n      <td>-1.929032</td>\n      <td>3</td>\n      <td>0.000021</td>\n      <td>1</td>\n      <td>0.013752</td>\n      <td>15</td>\n      <td>...</td>\n      <td>2.78</td>\n      <td>2.78</td>\n      <td>3.57</td>\n      <td>3.57</td>\n      <td>1.92</td>\n      <td>1.92</td>\n      <td>2.27</td>\n      <td>2.27</td>\n      <td>0.0</td>\n      <td>0.0</td>\n    </tr>\n    <tr>\n      <th>1</th>\n      <td>taiwan</td>\n      <td>TWN</td>\n      <td>69.0</td>\n      <td>92.947103</td>\n      <td>-1.929032</td>\n      <td>3</td>\n      <td>0.000021</td>\n      <td>1</td>\n      <td>0.013752</td>\n      <td>15</td>\n      <td>...</td>\n      <td>8.33</td>\n      <td>8.33</td>\n      <td>13.10</td>\n      <td>13.10</td>\n      <td>5.77</td>\n      <td>5.77</td>\n      <td>6.82</td>\n      <td>6.82</td>\n      <td>0.0</td>\n      <td>0.0</td>\n    </tr>\n    <tr>\n      <th>2</th>\n      <td>taiwan</td>\n      <td>TWN</td>\n      <td>69.0</td>\n      <td>92.947103</td>\n      <td>-1.929032</td>\n      <td>3</td>\n      <td>0.000021</td>\n      <td>1</td>\n      <td>0.013752</td>\n      <td>15</td>\n      <td>...</td>\n      <td>8.33</td>\n      <td>8.33</td>\n      <td>13.10</td>\n      <td>13.10</td>\n      <td>5.77</td>\n      <td>5.77</td>\n      <td>6.82</td>\n      <td>6.82</td>\n      <td>0.0</td>\n      <td>0.0</td>\n    </tr>\n    <tr>\n      <th>3</th>\n      <td>taiwan</td>\n      <td>TWN</td>\n      <td>69.0</td>\n      <td>92.947103</td>\n      <td>-1.929032</td>\n      <td>3</td>\n      <td>0.000021</td>\n      <td>1</td>\n      <td>0.013752</td>\n      <td>15</td>\n      <td>...</td>\n      <td>8.33</td>\n      <td>8.33</td>\n      <td>13.10</td>\n      <td>13.10</td>\n      <td>5.77</td>\n      <td>5.77</td>\n      <td>6.82</td>\n      <td>6.82</td>\n      <td>0.0</td>\n      <td>0.0</td>\n    </tr>\n    <tr>\n      <th>4</th>\n      <td>taiwan</td>\n      <td>TWN</td>\n      <td>69.0</td>\n      <td>92.947103</td>\n      <td>-1.929032</td>\n      <td>3</td>\n      <td>0.000021</td>\n      <td>1</td>\n      <td>0.013752</td>\n      <td>15</td>\n      <td>...</td>\n      <td>8.33</td>\n      <td>8.33</td>\n      <td>13.10</td>\n      <td>13.10</td>\n      <td>5.77</td>\n      <td>5.77</td>\n      <td>6.82</td>\n      <td>6.82</td>\n      <td>0.0</td>\n      <td>0.0</td>\n    </tr>\n  </tbody>\n</table>\n<p>5 rows × 57 columns</p>\n</div>"
     },
     "metadata": {},
     "execution_count": 24
    }
   ],
   "source": [
    "common = effectiveness.merge(oxcgrt,left_on=['country'], right_on=['CountryName'])\n",
    "common.head()\n"
   ]
  },
  {
   "cell_type": "code",
   "execution_count": 25,
   "metadata": {
    "tags": []
   },
   "outputs": [
    {
     "output_type": "stream",
     "name": "stdout",
     "text": "government response dimensions: (66516, 44)\neffectiveness data dim: (82, 13)\njoined data dim: (37536, 57)\n"
    }
   ],
   "source": [
    "print(\"government response dimensions:\", oxcgrt.shape)\n",
    "print(\"effectiveness data dim:\", effectiveness.shape)\n",
    "print(\"joined data dim:\", common.shape)"
   ]
  },
  {
   "cell_type": "code",
   "execution_count": 26,
   "metadata": {
    "tags": []
   },
   "outputs": [
    {
     "output_type": "stream",
     "name": "stdout",
     "text": "(2, 13)\n"
    },
    {
     "output_type": "execute_result",
     "data": {
      "text/plain": "    country ctr_y   uai     ltowvs     PCA-1  cluster  confirmed/pop  \\\n3   comoros   COM  68.0  23.000000  2.879881        1       0.000540   \n37    malta   MLT  96.0  47.103275 -1.394513        0       0.006468   \n\n    rank_confirmed  deaths/confirmed  rank_deaths  recovered/confirmed  \\\n3               11          0.014894           19             0.963830   \n37              59          0.008754            8             0.760854   \n\n    rank_recover  effectiveness  \n3              3      11.000000  \n37            51      39.333333  ",
      "text/html": "<div>\n<style scoped>\n    .dataframe tbody tr th:only-of-type {\n        vertical-align: middle;\n    }\n\n    .dataframe tbody tr th {\n        vertical-align: top;\n    }\n\n    .dataframe thead th {\n        text-align: right;\n    }\n</style>\n<table border=\"1\" class=\"dataframe\">\n  <thead>\n    <tr style=\"text-align: right;\">\n      <th></th>\n      <th>country</th>\n      <th>ctr_y</th>\n      <th>uai</th>\n      <th>ltowvs</th>\n      <th>PCA-1</th>\n      <th>cluster</th>\n      <th>confirmed/pop</th>\n      <th>rank_confirmed</th>\n      <th>deaths/confirmed</th>\n      <th>rank_deaths</th>\n      <th>recovered/confirmed</th>\n      <th>rank_recover</th>\n      <th>effectiveness</th>\n    </tr>\n  </thead>\n  <tbody>\n    <tr>\n      <th>3</th>\n      <td>comoros</td>\n      <td>COM</td>\n      <td>68.0</td>\n      <td>23.000000</td>\n      <td>2.879881</td>\n      <td>1</td>\n      <td>0.000540</td>\n      <td>11</td>\n      <td>0.014894</td>\n      <td>19</td>\n      <td>0.963830</td>\n      <td>3</td>\n      <td>11.000000</td>\n    </tr>\n    <tr>\n      <th>37</th>\n      <td>malta</td>\n      <td>MLT</td>\n      <td>96.0</td>\n      <td>47.103275</td>\n      <td>-1.394513</td>\n      <td>0</td>\n      <td>0.006468</td>\n      <td>59</td>\n      <td>0.008754</td>\n      <td>8</td>\n      <td>0.760854</td>\n      <td>51</td>\n      <td>39.333333</td>\n    </tr>\n  </tbody>\n</table>\n</div>"
     },
     "metadata": {},
     "execution_count": 26
    }
   ],
   "source": [
    "print(effectiveness[(~effectiveness.country.isin(common.country))].shape)\n",
    "effectiveness[(~effectiveness.country.isin(common.country))]"
   ]
  },
  {
   "cell_type": "code",
   "execution_count": null,
   "metadata": {},
   "outputs": [],
   "source": []
  }
 ]
}