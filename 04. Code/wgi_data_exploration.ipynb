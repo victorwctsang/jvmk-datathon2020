{
 "metadata": {
  "language_info": {
   "codemirror_mode": {
    "name": "ipython",
    "version": 3
   },
   "file_extension": ".py",
   "mimetype": "text/x-python",
   "name": "python",
   "nbconvert_exporter": "python",
   "pygments_lexer": "ipython3",
   "version": "3.6.9-final"
  },
  "orig_nbformat": 2,
  "kernelspec": {
   "name": "python_defaultSpec_1601699533658",
   "display_name": "Python 3.6.9 64-bit ('datathon-venv': venv)"
  }
 },
 "nbformat": 4,
 "nbformat_minor": 2,
 "cells": [
  {
   "cell_type": "code",
   "execution_count": 113,
   "metadata": {},
   "outputs": [],
   "source": [
    "import pandas as pd\n",
    "import numpy as np\n",
    "from pandas_profiling import ProfileReport"
   ]
  },
  {
   "cell_type": "code",
   "execution_count": 114,
   "metadata": {},
   "outputs": [
    {
     "output_type": "execute_result",
     "data": {
      "text/plain": "                          1996                                          1998  \\\nCode                  Estimate    StdErr NumSrc  Rank Lower  Upper  Estimate   \nAruba            ABW       NaN       NaN    NaN   NaN   NaN    NaN       NaN   \nAndorra          ADO  1.563217  0.291691    3.0  98.5  81.5  100.0  1.528759   \nAfghanistan      AFG -1.908540  0.261457    4.0   1.0   0.0    9.5 -2.039301   \nAngola           AGO -1.578164  0.208810    6.0   6.0   0.5   13.0 -1.411879   \nAnguilla         AIA       NaN       NaN    NaN   NaN   NaN    NaN       NaN   \n...                        ...       ...    ...   ...   ...    ...       ...   \nSerbia           SRB -1.215804  0.208810    6.0  14.0   6.5   21.5 -0.973843   \nSouth Africa     ZAF  0.841139  0.208056    7.0  73.0  64.5   86.0  0.846978   \nCongo, Dem. Rep. ZAR -1.600949  0.235619    4.0   4.5   0.0   14.0 -1.728647   \nZambia           ZMB -0.334019  0.208810    6.0  38.0  27.5   50.5 -0.483754   \nZimbabwe         ZWE -0.611550  0.208810    6.0  30.5  18.5   41.0 -0.789812   \n\n                                                  ...   2018             \\\nCode                    StdErr NumSrc       Rank  ... NumSrc       Rank   \nAruba            ABW       NaN    NaN        NaN  ...    1.0  91.625618   \nAndorra          ADO  0.291445    3.0  97.512436  ...    2.0  83.251228   \nAfghanistan      AFG  0.256090    4.0   0.497512  ...   10.0  20.689655   \nAngola           AGO  0.214446    6.0   9.452736  ...   11.0  22.660099   \nAnguilla         AIA       NaN    NaN        NaN  ...    NaN        NaN   \n...                        ...    ...        ...  ...    ...        ...   \nSerbia           SRB  0.214446    6.0  19.402985  ...   12.0  45.812809   \nSouth Africa     ZAF  0.213555    7.0  72.636818  ...   16.0  70.443352   \nCongo, Dem. Rep. ZAR  0.249131    4.0   3.482587  ...   12.0   7.881773   \nZambia           ZMB  0.214446    6.0  34.825871  ...   14.0  35.960590   \nZimbabwe         ZWE  0.214446    6.0  25.870647  ...   15.0  17.241379   \n\n                                                2019                   \\\nCode                      Lower      Upper  Estimate    StdErr NumSrc   \nAruba            ABW  77.339905  99.507393  1.294189  0.268796    1.0   \nAndorra          ADO  69.458130  95.566505  1.139154  0.219417    2.0   \nAfghanistan      AFG  13.793103  25.615763 -0.988032  0.127851   10.0   \nAngola           AGO  16.256157  27.586206 -0.777283  0.123522   11.0   \nAnguilla         AIA        NaN        NaN       NaN       NaN    NaN   \n...                         ...        ...       ...       ...    ...   \nSerbia           SRB  37.931034  54.187191  0.026626  0.125065   10.0   \nSouth Africa     ZAF  61.083744  75.369461  0.670388  0.118118   15.0   \nCongo, Dem. Rep. ZAR   4.433497  13.300492 -1.365966  0.126427   11.0   \nZambia           ZMB  31.034483  40.394089 -0.286199  0.120854   13.0   \nZimbabwe         ZWE  12.315271  22.167488 -1.141875  0.118220   14.0   \n\n                                                        \nCode                       Rank      Lower       Upper  \nAruba            ABW  92.610840  73.891624  100.000000  \nAndorra          ADO  87.192116  72.906403   96.059113  \nAfghanistan      AFG  21.674877  15.763547   25.123152  \nAngola           AGO  25.615763  21.674877   30.049261  \nAnguilla         AIA        NaN        NaN         NaN  \n...                         ...        ...         ...  \nSerbia           SRB  45.812809  39.901478   55.172413  \nSouth Africa     ZAF  69.458130  61.083744   73.891624  \nCongo, Dem. Rep. ZAR  12.807881   6.896552   16.256157  \nZambia           ZMB  36.945812  32.512314   42.857143  \nZimbabwe         ZWE  16.748768  12.807881   22.167488  \n\n[214 rows x 126 columns]",
      "text/html": "<div>\n<style scoped>\n    .dataframe tbody tr th:only-of-type {\n        vertical-align: middle;\n    }\n\n    .dataframe tbody tr th {\n        vertical-align: top;\n    }\n\n    .dataframe thead tr th {\n        text-align: left;\n    }\n</style>\n<table border=\"1\" class=\"dataframe\">\n  <thead>\n    <tr>\n      <th></th>\n      <th></th>\n      <th colspan=\"6\" halign=\"left\">1996</th>\n      <th colspan=\"4\" halign=\"left\">1998</th>\n      <th>...</th>\n      <th colspan=\"4\" halign=\"left\">2018</th>\n      <th colspan=\"6\" halign=\"left\">2019</th>\n    </tr>\n    <tr>\n      <th></th>\n      <th>Code</th>\n      <th>Estimate</th>\n      <th>StdErr</th>\n      <th>NumSrc</th>\n      <th>Rank</th>\n      <th>Lower</th>\n      <th>Upper</th>\n      <th>Estimate</th>\n      <th>StdErr</th>\n      <th>NumSrc</th>\n      <th>Rank</th>\n      <th>...</th>\n      <th>NumSrc</th>\n      <th>Rank</th>\n      <th>Lower</th>\n      <th>Upper</th>\n      <th>Estimate</th>\n      <th>StdErr</th>\n      <th>NumSrc</th>\n      <th>Rank</th>\n      <th>Lower</th>\n      <th>Upper</th>\n    </tr>\n  </thead>\n  <tbody>\n    <tr>\n      <th>Aruba</th>\n      <th>ABW</th>\n      <td>NaN</td>\n      <td>NaN</td>\n      <td>NaN</td>\n      <td>NaN</td>\n      <td>NaN</td>\n      <td>NaN</td>\n      <td>NaN</td>\n      <td>NaN</td>\n      <td>NaN</td>\n      <td>NaN</td>\n      <td>...</td>\n      <td>1.0</td>\n      <td>91.625618</td>\n      <td>77.339905</td>\n      <td>99.507393</td>\n      <td>1.294189</td>\n      <td>0.268796</td>\n      <td>1.0</td>\n      <td>92.610840</td>\n      <td>73.891624</td>\n      <td>100.000000</td>\n    </tr>\n    <tr>\n      <th>Andorra</th>\n      <th>ADO</th>\n      <td>1.563217</td>\n      <td>0.291691</td>\n      <td>3.0</td>\n      <td>98.5</td>\n      <td>81.5</td>\n      <td>100.0</td>\n      <td>1.528759</td>\n      <td>0.291445</td>\n      <td>3.0</td>\n      <td>97.512436</td>\n      <td>...</td>\n      <td>2.0</td>\n      <td>83.251228</td>\n      <td>69.458130</td>\n      <td>95.566505</td>\n      <td>1.139154</td>\n      <td>0.219417</td>\n      <td>2.0</td>\n      <td>87.192116</td>\n      <td>72.906403</td>\n      <td>96.059113</td>\n    </tr>\n    <tr>\n      <th>Afghanistan</th>\n      <th>AFG</th>\n      <td>-1.908540</td>\n      <td>0.261457</td>\n      <td>4.0</td>\n      <td>1.0</td>\n      <td>0.0</td>\n      <td>9.5</td>\n      <td>-2.039301</td>\n      <td>0.256090</td>\n      <td>4.0</td>\n      <td>0.497512</td>\n      <td>...</td>\n      <td>10.0</td>\n      <td>20.689655</td>\n      <td>13.793103</td>\n      <td>25.615763</td>\n      <td>-0.988032</td>\n      <td>0.127851</td>\n      <td>10.0</td>\n      <td>21.674877</td>\n      <td>15.763547</td>\n      <td>25.123152</td>\n    </tr>\n    <tr>\n      <th>Angola</th>\n      <th>AGO</th>\n      <td>-1.578164</td>\n      <td>0.208810</td>\n      <td>6.0</td>\n      <td>6.0</td>\n      <td>0.5</td>\n      <td>13.0</td>\n      <td>-1.411879</td>\n      <td>0.214446</td>\n      <td>6.0</td>\n      <td>9.452736</td>\n      <td>...</td>\n      <td>11.0</td>\n      <td>22.660099</td>\n      <td>16.256157</td>\n      <td>27.586206</td>\n      <td>-0.777283</td>\n      <td>0.123522</td>\n      <td>11.0</td>\n      <td>25.615763</td>\n      <td>21.674877</td>\n      <td>30.049261</td>\n    </tr>\n    <tr>\n      <th>Anguilla</th>\n      <th>AIA</th>\n      <td>NaN</td>\n      <td>NaN</td>\n      <td>NaN</td>\n      <td>NaN</td>\n      <td>NaN</td>\n      <td>NaN</td>\n      <td>NaN</td>\n      <td>NaN</td>\n      <td>NaN</td>\n      <td>NaN</td>\n      <td>...</td>\n      <td>NaN</td>\n      <td>NaN</td>\n      <td>NaN</td>\n      <td>NaN</td>\n      <td>NaN</td>\n      <td>NaN</td>\n      <td>NaN</td>\n      <td>NaN</td>\n      <td>NaN</td>\n      <td>NaN</td>\n    </tr>\n    <tr>\n      <th>...</th>\n      <th>...</th>\n      <td>...</td>\n      <td>...</td>\n      <td>...</td>\n      <td>...</td>\n      <td>...</td>\n      <td>...</td>\n      <td>...</td>\n      <td>...</td>\n      <td>...</td>\n      <td>...</td>\n      <td>...</td>\n      <td>...</td>\n      <td>...</td>\n      <td>...</td>\n      <td>...</td>\n      <td>...</td>\n      <td>...</td>\n      <td>...</td>\n      <td>...</td>\n      <td>...</td>\n      <td>...</td>\n    </tr>\n    <tr>\n      <th>Serbia</th>\n      <th>SRB</th>\n      <td>-1.215804</td>\n      <td>0.208810</td>\n      <td>6.0</td>\n      <td>14.0</td>\n      <td>6.5</td>\n      <td>21.5</td>\n      <td>-0.973843</td>\n      <td>0.214446</td>\n      <td>6.0</td>\n      <td>19.402985</td>\n      <td>...</td>\n      <td>12.0</td>\n      <td>45.812809</td>\n      <td>37.931034</td>\n      <td>54.187191</td>\n      <td>0.026626</td>\n      <td>0.125065</td>\n      <td>10.0</td>\n      <td>45.812809</td>\n      <td>39.901478</td>\n      <td>55.172413</td>\n    </tr>\n    <tr>\n      <th>South Africa</th>\n      <th>ZAF</th>\n      <td>0.841139</td>\n      <td>0.208056</td>\n      <td>7.0</td>\n      <td>73.0</td>\n      <td>64.5</td>\n      <td>86.0</td>\n      <td>0.846978</td>\n      <td>0.213555</td>\n      <td>7.0</td>\n      <td>72.636818</td>\n      <td>...</td>\n      <td>16.0</td>\n      <td>70.443352</td>\n      <td>61.083744</td>\n      <td>75.369461</td>\n      <td>0.670388</td>\n      <td>0.118118</td>\n      <td>15.0</td>\n      <td>69.458130</td>\n      <td>61.083744</td>\n      <td>73.891624</td>\n    </tr>\n    <tr>\n      <th>Congo, Dem. Rep.</th>\n      <th>ZAR</th>\n      <td>-1.600949</td>\n      <td>0.235619</td>\n      <td>4.0</td>\n      <td>4.5</td>\n      <td>0.0</td>\n      <td>14.0</td>\n      <td>-1.728647</td>\n      <td>0.249131</td>\n      <td>4.0</td>\n      <td>3.482587</td>\n      <td>...</td>\n      <td>12.0</td>\n      <td>7.881773</td>\n      <td>4.433497</td>\n      <td>13.300492</td>\n      <td>-1.365966</td>\n      <td>0.126427</td>\n      <td>11.0</td>\n      <td>12.807881</td>\n      <td>6.896552</td>\n      <td>16.256157</td>\n    </tr>\n    <tr>\n      <th>Zambia</th>\n      <th>ZMB</th>\n      <td>-0.334019</td>\n      <td>0.208810</td>\n      <td>6.0</td>\n      <td>38.0</td>\n      <td>27.5</td>\n      <td>50.5</td>\n      <td>-0.483754</td>\n      <td>0.214446</td>\n      <td>6.0</td>\n      <td>34.825871</td>\n      <td>...</td>\n      <td>14.0</td>\n      <td>35.960590</td>\n      <td>31.034483</td>\n      <td>40.394089</td>\n      <td>-0.286199</td>\n      <td>0.120854</td>\n      <td>13.0</td>\n      <td>36.945812</td>\n      <td>32.512314</td>\n      <td>42.857143</td>\n    </tr>\n    <tr>\n      <th>Zimbabwe</th>\n      <th>ZWE</th>\n      <td>-0.611550</td>\n      <td>0.208810</td>\n      <td>6.0</td>\n      <td>30.5</td>\n      <td>18.5</td>\n      <td>41.0</td>\n      <td>-0.789812</td>\n      <td>0.214446</td>\n      <td>6.0</td>\n      <td>25.870647</td>\n      <td>...</td>\n      <td>15.0</td>\n      <td>17.241379</td>\n      <td>12.315271</td>\n      <td>22.167488</td>\n      <td>-1.141875</td>\n      <td>0.118220</td>\n      <td>14.0</td>\n      <td>16.748768</td>\n      <td>12.807881</td>\n      <td>22.167488</td>\n    </tr>\n  </tbody>\n</table>\n<p>214 rows × 126 columns</p>\n</div>"
     },
     "metadata": {},
     "execution_count": 114
    }
   ],
   "source": [
    "sheet_names = ['VoiceandAccountability', 'Political StabilityNoViolence', 'GovernmentEffectiveness', 'RegulatoryQuality', 'RuleofLaw', 'ControlofCorruption']\n",
    "\n",
    "wgi_dataset = {s: pd.read_excel(\"../02. Source Data/01 Suggested/Worldwide governance indicators/wgidataset.xlsx\", s, header=[13,14], index_col=[0,1]) for s in sheet_names}\n",
    "wgi_dataset['VoiceandAccountability']"
   ]
  },
  {
   "cell_type": "code",
   "execution_count": 115,
   "metadata": {},
   "outputs": [],
   "source": [
    "def combine_multicol(df, name):\n",
    "    df1 = df.copy()\n",
    "    df1.columns = ['%s%s' % (a, '_%s' % b if b else '') for a, b in df1.columns]\n",
    "    cols = [c for c in df1.columns if 'estimate' in c.lower() and '2019' in c.lower()]\n",
    "    df2 = df1[cols]\n",
    "    df2.columns = [c + \"_\" + name for c in df2.columns]\n",
    "    return df2"
   ]
  },
  {
   "cell_type": "code",
   "execution_count": 116,
   "metadata": {
    "tags": []
   },
   "outputs": [],
   "source": [
    "x = {k: combine_multicol(wgi_dataset[k], k) for k in wgi_dataset.keys()}"
   ]
  },
  {
   "cell_type": "code",
   "execution_count": 190,
   "metadata": {},
   "outputs": [
    {
     "output_type": "execute_result",
     "data": {
      "text/plain": "       country  ctr  VoiceandAccountability  Political StabilityNoViolence  \\\n0        aruba  ABW                1.294189                       1.357372   \n1      andorra  ADO                1.139154                       1.615139   \n2  afghanistan  AFG               -0.988032                      -2.649407   \n3       angola  AGO               -0.777283                      -0.311101   \n4     anguilla  AIA                     NaN                       1.367357   \n\n   GovernmentEffectiveness  RegulatoryQuality  RuleofLaw  ControlofCorruption  \n0                 1.029933           0.857360   1.263128             1.217238  \n1                 1.908749           1.228176   1.579939             1.234392  \n2                -1.463875          -1.120555  -1.713527            -1.401076  \n3                -1.117144          -0.893871  -1.054343            -1.054683  \n4                 0.815824           0.846231   0.355737             1.234392  ",
      "text/html": "<div>\n<style scoped>\n    .dataframe tbody tr th:only-of-type {\n        vertical-align: middle;\n    }\n\n    .dataframe tbody tr th {\n        vertical-align: top;\n    }\n\n    .dataframe thead th {\n        text-align: right;\n    }\n</style>\n<table border=\"1\" class=\"dataframe\">\n  <thead>\n    <tr style=\"text-align: right;\">\n      <th></th>\n      <th>country</th>\n      <th>ctr</th>\n      <th>VoiceandAccountability</th>\n      <th>Political StabilityNoViolence</th>\n      <th>GovernmentEffectiveness</th>\n      <th>RegulatoryQuality</th>\n      <th>RuleofLaw</th>\n      <th>ControlofCorruption</th>\n    </tr>\n  </thead>\n  <tbody>\n    <tr>\n      <th>0</th>\n      <td>aruba</td>\n      <td>ABW</td>\n      <td>1.294189</td>\n      <td>1.357372</td>\n      <td>1.029933</td>\n      <td>0.857360</td>\n      <td>1.263128</td>\n      <td>1.217238</td>\n    </tr>\n    <tr>\n      <th>1</th>\n      <td>andorra</td>\n      <td>ADO</td>\n      <td>1.139154</td>\n      <td>1.615139</td>\n      <td>1.908749</td>\n      <td>1.228176</td>\n      <td>1.579939</td>\n      <td>1.234392</td>\n    </tr>\n    <tr>\n      <th>2</th>\n      <td>afghanistan</td>\n      <td>AFG</td>\n      <td>-0.988032</td>\n      <td>-2.649407</td>\n      <td>-1.463875</td>\n      <td>-1.120555</td>\n      <td>-1.713527</td>\n      <td>-1.401076</td>\n    </tr>\n    <tr>\n      <th>3</th>\n      <td>angola</td>\n      <td>AGO</td>\n      <td>-0.777283</td>\n      <td>-0.311101</td>\n      <td>-1.117144</td>\n      <td>-0.893871</td>\n      <td>-1.054343</td>\n      <td>-1.054683</td>\n    </tr>\n    <tr>\n      <th>4</th>\n      <td>anguilla</td>\n      <td>AIA</td>\n      <td>NaN</td>\n      <td>1.367357</td>\n      <td>0.815824</td>\n      <td>0.846231</td>\n      <td>0.355737</td>\n      <td>1.234392</td>\n    </tr>\n  </tbody>\n</table>\n</div>"
     },
     "metadata": {},
     "execution_count": 190
    }
   ],
   "source": [
    "full_dataset_2019 = pd.concat([v for v in x.values()], axis=1)\n",
    "full_dataset_2019.columns = sheet_names\n",
    "full_dataset_2019 = full_dataset_2019.rename_axis(['country', 'ctr'])\n",
    "full_dataset_2019 = full_dataset_2019.reset_index()\n",
    "full_dataset_2019['country'] = full_dataset_2019['country'].str.lower()\n",
    "full_dataset_2019['country'] = full_dataset_2019['country'].str.replace('\\,.*', '', regex=True)\n",
    "full_dataset_2019 = full_dataset_2019.replace({'country': {'hong kong sar': 'hong kong',\n",
    "                                                            'russian federation': 'russia'}})\n",
    "full_dataset_2019.head()"
   ]
  },
  {
   "cell_type": "code",
   "execution_count": 191,
   "metadata": {},
   "outputs": [
    {
     "output_type": "error",
     "ename": "PermissionError",
     "evalue": "[Errno 13] Permission denied: '../03. Cleansed Data/wgi_data_combined.csv'",
     "traceback": [
      "\u001b[0;31m---------------------------------------------------------------------------\u001b[0m",
      "\u001b[0;31mPermissionError\u001b[0m                           Traceback (most recent call last)",
      "\u001b[0;32m<ipython-input-191-985813a26f3d>\u001b[0m in \u001b[0;36m<module>\u001b[0;34m\u001b[0m\n\u001b[0;32m----> 1\u001b[0;31m \u001b[0mfull_dataset_2019\u001b[0m\u001b[0;34m.\u001b[0m\u001b[0mto_csv\u001b[0m\u001b[0;34m(\u001b[0m\u001b[0;34m\"../03. Cleansed Data/wgi_data_combined.csv\"\u001b[0m\u001b[0;34m)\u001b[0m\u001b[0;34m\u001b[0m\u001b[0;34m\u001b[0m\u001b[0m\n\u001b[0m",
      "\u001b[0;32m/mnt/c/Users/victo/git-repos/jvmk-datathon2020/datathon-venv/lib/python3.6/site-packages/pandas/core/generic.py\u001b[0m in \u001b[0;36mto_csv\u001b[0;34m(self, path_or_buf, sep, na_rep, float_format, columns, header, index, index_label, mode, encoding, compression, quoting, quotechar, line_terminator, chunksize, date_format, doublequote, escapechar, decimal, errors)\u001b[0m\n\u001b[1;32m   3165\u001b[0m             \u001b[0mdecimal\u001b[0m\u001b[0;34m=\u001b[0m\u001b[0mdecimal\u001b[0m\u001b[0;34m,\u001b[0m\u001b[0;34m\u001b[0m\u001b[0;34m\u001b[0m\u001b[0m\n\u001b[1;32m   3166\u001b[0m         )\n\u001b[0;32m-> 3167\u001b[0;31m         \u001b[0mformatter\u001b[0m\u001b[0;34m.\u001b[0m\u001b[0msave\u001b[0m\u001b[0;34m(\u001b[0m\u001b[0;34m)\u001b[0m\u001b[0;34m\u001b[0m\u001b[0;34m\u001b[0m\u001b[0m\n\u001b[0m\u001b[1;32m   3168\u001b[0m \u001b[0;34m\u001b[0m\u001b[0m\n\u001b[1;32m   3169\u001b[0m         \u001b[0;32mif\u001b[0m \u001b[0mpath_or_buf\u001b[0m \u001b[0;32mis\u001b[0m \u001b[0;32mNone\u001b[0m\u001b[0;34m:\u001b[0m\u001b[0;34m\u001b[0m\u001b[0;34m\u001b[0m\u001b[0m\n",
      "\u001b[0;32m/mnt/c/Users/victo/git-repos/jvmk-datathon2020/datathon-venv/lib/python3.6/site-packages/pandas/io/formats/csvs.py\u001b[0m in \u001b[0;36msave\u001b[0;34m(self)\u001b[0m\n\u001b[1;32m    188\u001b[0m                 \u001b[0mencoding\u001b[0m\u001b[0;34m=\u001b[0m\u001b[0mself\u001b[0m\u001b[0;34m.\u001b[0m\u001b[0mencoding\u001b[0m\u001b[0;34m,\u001b[0m\u001b[0;34m\u001b[0m\u001b[0;34m\u001b[0m\u001b[0m\n\u001b[1;32m    189\u001b[0m                 \u001b[0merrors\u001b[0m\u001b[0;34m=\u001b[0m\u001b[0mself\u001b[0m\u001b[0;34m.\u001b[0m\u001b[0merrors\u001b[0m\u001b[0;34m,\u001b[0m\u001b[0;34m\u001b[0m\u001b[0;34m\u001b[0m\u001b[0m\n\u001b[0;32m--> 190\u001b[0;31m                 \u001b[0mcompression\u001b[0m\u001b[0;34m=\u001b[0m\u001b[0mdict\u001b[0m\u001b[0;34m(\u001b[0m\u001b[0mself\u001b[0m\u001b[0;34m.\u001b[0m\u001b[0mcompression_args\u001b[0m\u001b[0;34m,\u001b[0m \u001b[0mmethod\u001b[0m\u001b[0;34m=\u001b[0m\u001b[0mself\u001b[0m\u001b[0;34m.\u001b[0m\u001b[0mcompression\u001b[0m\u001b[0;34m)\u001b[0m\u001b[0;34m,\u001b[0m\u001b[0;34m\u001b[0m\u001b[0;34m\u001b[0m\u001b[0m\n\u001b[0m\u001b[1;32m    191\u001b[0m             )\n\u001b[1;32m    192\u001b[0m             \u001b[0mclose\u001b[0m \u001b[0;34m=\u001b[0m \u001b[0;32mTrue\u001b[0m\u001b[0;34m\u001b[0m\u001b[0;34m\u001b[0m\u001b[0m\n",
      "\u001b[0;32m/mnt/c/Users/victo/git-repos/jvmk-datathon2020/datathon-venv/lib/python3.6/site-packages/pandas/io/common.py\u001b[0m in \u001b[0;36mget_handle\u001b[0;34m(path_or_buf, mode, encoding, compression, memory_map, is_text, errors)\u001b[0m\n\u001b[1;32m    491\u001b[0m         \u001b[0;32mif\u001b[0m \u001b[0mencoding\u001b[0m\u001b[0;34m:\u001b[0m\u001b[0;34m\u001b[0m\u001b[0;34m\u001b[0m\u001b[0m\n\u001b[1;32m    492\u001b[0m             \u001b[0;31m# Encoding\u001b[0m\u001b[0;34m\u001b[0m\u001b[0;34m\u001b[0m\u001b[0;34m\u001b[0m\u001b[0m\n\u001b[0;32m--> 493\u001b[0;31m             \u001b[0mf\u001b[0m \u001b[0;34m=\u001b[0m \u001b[0mopen\u001b[0m\u001b[0;34m(\u001b[0m\u001b[0mpath_or_buf\u001b[0m\u001b[0;34m,\u001b[0m \u001b[0mmode\u001b[0m\u001b[0;34m,\u001b[0m \u001b[0mencoding\u001b[0m\u001b[0;34m=\u001b[0m\u001b[0mencoding\u001b[0m\u001b[0;34m,\u001b[0m \u001b[0merrors\u001b[0m\u001b[0;34m=\u001b[0m\u001b[0merrors\u001b[0m\u001b[0;34m,\u001b[0m \u001b[0mnewline\u001b[0m\u001b[0;34m=\u001b[0m\u001b[0;34m\"\"\u001b[0m\u001b[0;34m)\u001b[0m\u001b[0;34m\u001b[0m\u001b[0;34m\u001b[0m\u001b[0m\n\u001b[0m\u001b[1;32m    494\u001b[0m         \u001b[0;32melif\u001b[0m \u001b[0mis_text\u001b[0m\u001b[0;34m:\u001b[0m\u001b[0;34m\u001b[0m\u001b[0;34m\u001b[0m\u001b[0m\n\u001b[1;32m    495\u001b[0m             \u001b[0;31m# No explicit encoding\u001b[0m\u001b[0;34m\u001b[0m\u001b[0;34m\u001b[0m\u001b[0;34m\u001b[0m\u001b[0m\n",
      "\u001b[0;31mPermissionError\u001b[0m: [Errno 13] Permission denied: '../03. Cleansed Data/wgi_data_combined.csv'"
     ]
    }
   ],
   "source": [
    "full_dataset_2019.to_csv(\"../03. Cleansed Data/wgi_data_combined.csv\")"
   ]
  },
  {
   "cell_type": "code",
   "execution_count": 229,
   "metadata": {},
   "outputs": [
    {
     "output_type": "execute_result",
     "data": {
      "text/plain": "    ctr               country   pdi   uai  ltowvs\n17  NaN                 sudan  80.0  68.0    23.0\n18  NaN  syrian arab republic  80.0  68.0    23.0\n19  NaN               tunisia  80.0  68.0    23.0\n20  NaN  united arab emirates  80.0  68.0    23.0\n21  NaN                 yemen  80.0  68.0    23.0",
      "text/html": "<div>\n<style scoped>\n    .dataframe tbody tr th:only-of-type {\n        vertical-align: middle;\n    }\n\n    .dataframe tbody tr th {\n        vertical-align: top;\n    }\n\n    .dataframe thead th {\n        text-align: right;\n    }\n</style>\n<table border=\"1\" class=\"dataframe\">\n  <thead>\n    <tr style=\"text-align: right;\">\n      <th></th>\n      <th>ctr</th>\n      <th>country</th>\n      <th>pdi</th>\n      <th>uai</th>\n      <th>ltowvs</th>\n    </tr>\n  </thead>\n  <tbody>\n    <tr>\n      <th>17</th>\n      <td>NaN</td>\n      <td>sudan</td>\n      <td>80.0</td>\n      <td>68.0</td>\n      <td>23.0</td>\n    </tr>\n    <tr>\n      <th>18</th>\n      <td>NaN</td>\n      <td>syrian arab republic</td>\n      <td>80.0</td>\n      <td>68.0</td>\n      <td>23.0</td>\n    </tr>\n    <tr>\n      <th>19</th>\n      <td>NaN</td>\n      <td>tunisia</td>\n      <td>80.0</td>\n      <td>68.0</td>\n      <td>23.0</td>\n    </tr>\n    <tr>\n      <th>20</th>\n      <td>NaN</td>\n      <td>united arab emirates</td>\n      <td>80.0</td>\n      <td>68.0</td>\n      <td>23.0</td>\n    </tr>\n    <tr>\n      <th>21</th>\n      <td>NaN</td>\n      <td>yemen</td>\n      <td>80.0</td>\n      <td>68.0</td>\n      <td>23.0</td>\n    </tr>\n  </tbody>\n</table>\n</div>"
     },
     "metadata": {},
     "execution_count": 229
    }
   ],
   "source": [
    "#data cleaning\n",
    "hofstede_data = pd.read_excel (r'../02. Source Data/01 Suggested/Hofstede national culture dimensions (2015)/6-dimensions-for-website-2015-08-16.xls')\n",
    "#drop NA', 'can't really replace NA with any number e.g. 0 as the indexes are sliding scales and 0 would essentially mean '0/100' as a score\n",
    "hofstede_data = hofstede_data.dropna()\n",
    "hofstede_data = hofstede_data.reset_index(drop=True)\n",
    "#dropping irrelevant indicies\n",
    "hofstede_data = hofstede_data.drop(['idv', 'mas','ivr'], axis=1)\n",
    "arab_countries = ['Algeria', 'Bahrain', 'Comoros', 'Djibouti', 'Egypt', 'Iraq', 'Jordan', 'Kuwait', 'Lebanon', 'Libya', 'Morocco', 'Mauritania', 'Oman', 'Palestine', 'Qatar', 'Saudi Arabia', 'Somalia', 'Sudan', 'Syrian arab rep', 'Tunisia', 'United Arab Emirates','Yemen']\n",
    "arab_pdi = [80.0]*len(arab_countries)\n",
    "arab_uai = [68.0]*len(arab_countries)\n",
    "arab_ltowvs = [23.0]*len(arab_countries)\n",
    "arab_df = pd.DataFrame({'country': arab_countries,\n",
    "                        'pdi': arab_pdi,\n",
    "                        'uai': arab_uai,\n",
    "                        'ltowvs': arab_ltowvs})\n",
    "hofstede_data = hofstede_data.append(arab_df)\n",
    "hofstede_data['country'] = hofstede_data['country'].str.lower()\n",
    "hofstede_data['country'] = hofstede_data['country'].str.replace(' rep', ' republic')\n",
    "hofstede_data = hofstede_data.replace({'country': {'u.s.a.': 'united states',\n",
    "                                                            'great britain': 'united kingdom',\n",
    "                                                            'korea south': 'korea'}})\n",
    "hofstede_data.to_csv(\"../03. Cleansed Data/hofstede.csv\")\n",
    "hofstede_data.tail()"
   ]
  },
  {
   "cell_type": "code",
   "execution_count": 230,
   "metadata": {},
   "outputs": [
    {
     "output_type": "execute_result",
     "data": {
      "text/plain": "(84, 12)"
     },
     "metadata": {},
     "execution_count": 230
    }
   ],
   "source": [
    "common = hofstede_data.merge(full_dataset_2019,on=['country'])\n",
    "common.shape"
   ]
  },
  {
   "cell_type": "code",
   "execution_count": 232,
   "metadata": {},
   "outputs": [],
   "source": [
    "common.to_csv('../03. Cleansed Data/cultural_and_governance.csv')"
   ]
  },
  {
   "cell_type": "code",
   "execution_count": null,
   "metadata": {},
   "outputs": [],
   "source": []
  }
 ]
}