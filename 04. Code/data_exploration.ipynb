{
 "metadata": {
  "language_info": {
   "codemirror_mode": {
    "name": "ipython",
    "version": 3
   },
   "file_extension": ".py",
   "mimetype": "text/x-python",
   "name": "python",
   "nbconvert_exporter": "python",
   "pygments_lexer": "ipython3",
   "version": "3.6.9-final"
  },
  "orig_nbformat": 2,
  "kernelspec": {
   "name": "python_defaultSpec_1601694657652",
   "display_name": "Python 3.6.9 64-bit ('datathon-venv': venv)"
  }
 },
 "nbformat": 4,
 "nbformat_minor": 2,
 "cells": [
  {
   "cell_type": "code",
   "execution_count": 1,
   "metadata": {},
   "outputs": [],
   "source": [
    "import pandas as pd\n",
    "import numpy as np\n",
    "from pandas_profiling import ProfileReport"
   ]
  },
  {
   "cell_type": "code",
   "execution_count": 23,
   "metadata": {},
   "outputs": [],
   "source": [
    "sheet_names = ['VoiceandAccountability', 'Political StabilityNoViolence', 'GovernmentEffectiveness', 'RegulatoryQuality', 'RuleofLaw', 'ControlofCorruption']\n",
    "\n",
    "wgi_datasets = {i: pd.read_excel(\"../02. Source Data/01 Suggested/Worldwide governance indicators/wgidataset.xlsx\", sheet_name=i, header=[13, 14], index_col=[0,1]) for i in sheet_names}\n"
   ]
  },
  {
   "cell_type": "code",
   "execution_count": 24,
   "metadata": {},
   "outputs": [
    {
     "output_type": "execute_result",
     "data": {
      "text/plain": "                          1996                                          1998  \\\nCode                  Estimate    StdErr NumSrc  Rank Lower  Upper  Estimate   \nAruba            ABW       NaN       NaN    NaN   NaN   NaN    NaN       NaN   \nAndorra          ADO  1.563217  0.291691    3.0  98.5  81.5  100.0  1.528759   \nAfghanistan      AFG -1.908540  0.261457    4.0   1.0   0.0    9.5 -2.039301   \nAngola           AGO -1.578164  0.208810    6.0   6.0   0.5   13.0 -1.411879   \nAnguilla         AIA       NaN       NaN    NaN   NaN   NaN    NaN       NaN   \n...                        ...       ...    ...   ...   ...    ...       ...   \nSerbia           SRB -1.215804  0.208810    6.0  14.0   6.5   21.5 -0.973843   \nSouth Africa     ZAF  0.841139  0.208056    7.0  73.0  64.5   86.0  0.846978   \nCongo, Dem. Rep. ZAR -1.600949  0.235619    4.0   4.5   0.0   14.0 -1.728647   \nZambia           ZMB -0.334019  0.208810    6.0  38.0  27.5   50.5 -0.483754   \nZimbabwe         ZWE -0.611550  0.208810    6.0  30.5  18.5   41.0 -0.789812   \n\n                                                  ...   2018             \\\nCode                    StdErr NumSrc       Rank  ... NumSrc       Rank   \nAruba            ABW       NaN    NaN        NaN  ...    1.0  91.625618   \nAndorra          ADO  0.291445    3.0  97.512436  ...    2.0  83.251228   \nAfghanistan      AFG  0.256090    4.0   0.497512  ...   10.0  20.689655   \nAngola           AGO  0.214446    6.0   9.452736  ...   11.0  22.660099   \nAnguilla         AIA       NaN    NaN        NaN  ...    NaN        NaN   \n...                        ...    ...        ...  ...    ...        ...   \nSerbia           SRB  0.214446    6.0  19.402985  ...   12.0  45.812809   \nSouth Africa     ZAF  0.213555    7.0  72.636818  ...   16.0  70.443352   \nCongo, Dem. Rep. ZAR  0.249131    4.0   3.482587  ...   12.0   7.881773   \nZambia           ZMB  0.214446    6.0  34.825871  ...   14.0  35.960590   \nZimbabwe         ZWE  0.214446    6.0  25.870647  ...   15.0  17.241379   \n\n                                                2019                   \\\nCode                      Lower      Upper  Estimate    StdErr NumSrc   \nAruba            ABW  77.339905  99.507393  1.294189  0.268796    1.0   \nAndorra          ADO  69.458130  95.566505  1.139154  0.219417    2.0   \nAfghanistan      AFG  13.793103  25.615763 -0.988032  0.127851   10.0   \nAngola           AGO  16.256157  27.586206 -0.777283  0.123522   11.0   \nAnguilla         AIA        NaN        NaN       NaN       NaN    NaN   \n...                         ...        ...       ...       ...    ...   \nSerbia           SRB  37.931034  54.187191  0.026626  0.125065   10.0   \nSouth Africa     ZAF  61.083744  75.369461  0.670388  0.118118   15.0   \nCongo, Dem. Rep. ZAR   4.433497  13.300492 -1.365966  0.126427   11.0   \nZambia           ZMB  31.034483  40.394089 -0.286199  0.120854   13.0   \nZimbabwe         ZWE  12.315271  22.167488 -1.141875  0.118220   14.0   \n\n                                                        \nCode                       Rank      Lower       Upper  \nAruba            ABW  92.610840  73.891624  100.000000  \nAndorra          ADO  87.192116  72.906403   96.059113  \nAfghanistan      AFG  21.674877  15.763547   25.123152  \nAngola           AGO  25.615763  21.674877   30.049261  \nAnguilla         AIA        NaN        NaN         NaN  \n...                         ...        ...         ...  \nSerbia           SRB  45.812809  39.901478   55.172413  \nSouth Africa     ZAF  69.458130  61.083744   73.891624  \nCongo, Dem. Rep. ZAR  12.807881   6.896552   16.256157  \nZambia           ZMB  36.945812  32.512314   42.857143  \nZimbabwe         ZWE  16.748768  12.807881   22.167488  \n\n[214 rows x 126 columns]",
      "text/html": "<div>\n<style scoped>\n    .dataframe tbody tr th:only-of-type {\n        vertical-align: middle;\n    }\n\n    .dataframe tbody tr th {\n        vertical-align: top;\n    }\n\n    .dataframe thead tr th {\n        text-align: left;\n    }\n</style>\n<table border=\"1\" class=\"dataframe\">\n  <thead>\n    <tr>\n      <th></th>\n      <th></th>\n      <th colspan=\"6\" halign=\"left\">1996</th>\n      <th colspan=\"4\" halign=\"left\">1998</th>\n      <th>...</th>\n      <th colspan=\"4\" halign=\"left\">2018</th>\n      <th colspan=\"6\" halign=\"left\">2019</th>\n    </tr>\n    <tr>\n      <th></th>\n      <th>Code</th>\n      <th>Estimate</th>\n      <th>StdErr</th>\n      <th>NumSrc</th>\n      <th>Rank</th>\n      <th>Lower</th>\n      <th>Upper</th>\n      <th>Estimate</th>\n      <th>StdErr</th>\n      <th>NumSrc</th>\n      <th>Rank</th>\n      <th>...</th>\n      <th>NumSrc</th>\n      <th>Rank</th>\n      <th>Lower</th>\n      <th>Upper</th>\n      <th>Estimate</th>\n      <th>StdErr</th>\n      <th>NumSrc</th>\n      <th>Rank</th>\n      <th>Lower</th>\n      <th>Upper</th>\n    </tr>\n  </thead>\n  <tbody>\n    <tr>\n      <th>Aruba</th>\n      <th>ABW</th>\n      <td>NaN</td>\n      <td>NaN</td>\n      <td>NaN</td>\n      <td>NaN</td>\n      <td>NaN</td>\n      <td>NaN</td>\n      <td>NaN</td>\n      <td>NaN</td>\n      <td>NaN</td>\n      <td>NaN</td>\n      <td>...</td>\n      <td>1.0</td>\n      <td>91.625618</td>\n      <td>77.339905</td>\n      <td>99.507393</td>\n      <td>1.294189</td>\n      <td>0.268796</td>\n      <td>1.0</td>\n      <td>92.610840</td>\n      <td>73.891624</td>\n      <td>100.000000</td>\n    </tr>\n    <tr>\n      <th>Andorra</th>\n      <th>ADO</th>\n      <td>1.563217</td>\n      <td>0.291691</td>\n      <td>3.0</td>\n      <td>98.5</td>\n      <td>81.5</td>\n      <td>100.0</td>\n      <td>1.528759</td>\n      <td>0.291445</td>\n      <td>3.0</td>\n      <td>97.512436</td>\n      <td>...</td>\n      <td>2.0</td>\n      <td>83.251228</td>\n      <td>69.458130</td>\n      <td>95.566505</td>\n      <td>1.139154</td>\n      <td>0.219417</td>\n      <td>2.0</td>\n      <td>87.192116</td>\n      <td>72.906403</td>\n      <td>96.059113</td>\n    </tr>\n    <tr>\n      <th>Afghanistan</th>\n      <th>AFG</th>\n      <td>-1.908540</td>\n      <td>0.261457</td>\n      <td>4.0</td>\n      <td>1.0</td>\n      <td>0.0</td>\n      <td>9.5</td>\n      <td>-2.039301</td>\n      <td>0.256090</td>\n      <td>4.0</td>\n      <td>0.497512</td>\n      <td>...</td>\n      <td>10.0</td>\n      <td>20.689655</td>\n      <td>13.793103</td>\n      <td>25.615763</td>\n      <td>-0.988032</td>\n      <td>0.127851</td>\n      <td>10.0</td>\n      <td>21.674877</td>\n      <td>15.763547</td>\n      <td>25.123152</td>\n    </tr>\n    <tr>\n      <th>Angola</th>\n      <th>AGO</th>\n      <td>-1.578164</td>\n      <td>0.208810</td>\n      <td>6.0</td>\n      <td>6.0</td>\n      <td>0.5</td>\n      <td>13.0</td>\n      <td>-1.411879</td>\n      <td>0.214446</td>\n      <td>6.0</td>\n      <td>9.452736</td>\n      <td>...</td>\n      <td>11.0</td>\n      <td>22.660099</td>\n      <td>16.256157</td>\n      <td>27.586206</td>\n      <td>-0.777283</td>\n      <td>0.123522</td>\n      <td>11.0</td>\n      <td>25.615763</td>\n      <td>21.674877</td>\n      <td>30.049261</td>\n    </tr>\n    <tr>\n      <th>Anguilla</th>\n      <th>AIA</th>\n      <td>NaN</td>\n      <td>NaN</td>\n      <td>NaN</td>\n      <td>NaN</td>\n      <td>NaN</td>\n      <td>NaN</td>\n      <td>NaN</td>\n      <td>NaN</td>\n      <td>NaN</td>\n      <td>NaN</td>\n      <td>...</td>\n      <td>NaN</td>\n      <td>NaN</td>\n      <td>NaN</td>\n      <td>NaN</td>\n      <td>NaN</td>\n      <td>NaN</td>\n      <td>NaN</td>\n      <td>NaN</td>\n      <td>NaN</td>\n      <td>NaN</td>\n    </tr>\n    <tr>\n      <th>...</th>\n      <th>...</th>\n      <td>...</td>\n      <td>...</td>\n      <td>...</td>\n      <td>...</td>\n      <td>...</td>\n      <td>...</td>\n      <td>...</td>\n      <td>...</td>\n      <td>...</td>\n      <td>...</td>\n      <td>...</td>\n      <td>...</td>\n      <td>...</td>\n      <td>...</td>\n      <td>...</td>\n      <td>...</td>\n      <td>...</td>\n      <td>...</td>\n      <td>...</td>\n      <td>...</td>\n      <td>...</td>\n    </tr>\n    <tr>\n      <th>Serbia</th>\n      <th>SRB</th>\n      <td>-1.215804</td>\n      <td>0.208810</td>\n      <td>6.0</td>\n      <td>14.0</td>\n      <td>6.5</td>\n      <td>21.5</td>\n      <td>-0.973843</td>\n      <td>0.214446</td>\n      <td>6.0</td>\n      <td>19.402985</td>\n      <td>...</td>\n      <td>12.0</td>\n      <td>45.812809</td>\n      <td>37.931034</td>\n      <td>54.187191</td>\n      <td>0.026626</td>\n      <td>0.125065</td>\n      <td>10.0</td>\n      <td>45.812809</td>\n      <td>39.901478</td>\n      <td>55.172413</td>\n    </tr>\n    <tr>\n      <th>South Africa</th>\n      <th>ZAF</th>\n      <td>0.841139</td>\n      <td>0.208056</td>\n      <td>7.0</td>\n      <td>73.0</td>\n      <td>64.5</td>\n      <td>86.0</td>\n      <td>0.846978</td>\n      <td>0.213555</td>\n      <td>7.0</td>\n      <td>72.636818</td>\n      <td>...</td>\n      <td>16.0</td>\n      <td>70.443352</td>\n      <td>61.083744</td>\n      <td>75.369461</td>\n      <td>0.670388</td>\n      <td>0.118118</td>\n      <td>15.0</td>\n      <td>69.458130</td>\n      <td>61.083744</td>\n      <td>73.891624</td>\n    </tr>\n    <tr>\n      <th>Congo, Dem. Rep.</th>\n      <th>ZAR</th>\n      <td>-1.600949</td>\n      <td>0.235619</td>\n      <td>4.0</td>\n      <td>4.5</td>\n      <td>0.0</td>\n      <td>14.0</td>\n      <td>-1.728647</td>\n      <td>0.249131</td>\n      <td>4.0</td>\n      <td>3.482587</td>\n      <td>...</td>\n      <td>12.0</td>\n      <td>7.881773</td>\n      <td>4.433497</td>\n      <td>13.300492</td>\n      <td>-1.365966</td>\n      <td>0.126427</td>\n      <td>11.0</td>\n      <td>12.807881</td>\n      <td>6.896552</td>\n      <td>16.256157</td>\n    </tr>\n    <tr>\n      <th>Zambia</th>\n      <th>ZMB</th>\n      <td>-0.334019</td>\n      <td>0.208810</td>\n      <td>6.0</td>\n      <td>38.0</td>\n      <td>27.5</td>\n      <td>50.5</td>\n      <td>-0.483754</td>\n      <td>0.214446</td>\n      <td>6.0</td>\n      <td>34.825871</td>\n      <td>...</td>\n      <td>14.0</td>\n      <td>35.960590</td>\n      <td>31.034483</td>\n      <td>40.394089</td>\n      <td>-0.286199</td>\n      <td>0.120854</td>\n      <td>13.0</td>\n      <td>36.945812</td>\n      <td>32.512314</td>\n      <td>42.857143</td>\n    </tr>\n    <tr>\n      <th>Zimbabwe</th>\n      <th>ZWE</th>\n      <td>-0.611550</td>\n      <td>0.208810</td>\n      <td>6.0</td>\n      <td>30.5</td>\n      <td>18.5</td>\n      <td>41.0</td>\n      <td>-0.789812</td>\n      <td>0.214446</td>\n      <td>6.0</td>\n      <td>25.870647</td>\n      <td>...</td>\n      <td>15.0</td>\n      <td>17.241379</td>\n      <td>12.315271</td>\n      <td>22.167488</td>\n      <td>-1.141875</td>\n      <td>0.118220</td>\n      <td>14.0</td>\n      <td>16.748768</td>\n      <td>12.807881</td>\n      <td>22.167488</td>\n    </tr>\n  </tbody>\n</table>\n<p>214 rows × 126 columns</p>\n</div>"
     },
     "metadata": {},
     "execution_count": 24
    }
   ],
   "source": [
    "wgi_datasets['VoiceandAccountability']"
   ]
  },
  {
   "cell_type": "code",
   "execution_count": null,
   "metadata": {},
   "outputs": [],
   "source": [
    "wgi_datasets['RuleofLaw']"
   ]
  }
 ]
}